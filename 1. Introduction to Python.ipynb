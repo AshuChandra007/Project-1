{
 "cells": [
  {
   "cell_type": "markdown",
   "metadata": {},
   "source": [
    "# Introduction to Python"
   ]
  },
  {
   "cell_type": "code",
   "execution_count": null,
   "metadata": {},
   "outputs": [],
   "source": [
    "# A line starting with hash (#) is a comment line in Python.\n",
    "# Python identifier is a name which is used to identify a variable, function, \n",
    "# or any other user- defined item. \n",
    "# Python is a case-sensitive programming language."
   ]
  },
  {
   "cell_type": "markdown",
   "metadata": {},
   "source": [
    "# 1. Variables in Python"
   ]
  },
  {
   "cell_type": "code",
   "execution_count": null,
   "metadata": {},
   "outputs": [],
   "source": [
    "### Naming Rules\n",
    "# The name of an identifier can be composed of letters, digits, and underscore.\n",
    "\n",
    "### Assigning Values to a Variable\n",
    "# The = operator means assignment and does not represent mathematical equality.  \n",
    "# Thus, x = y copies the value stored in variable “y” into variable “x”. \n",
    "# Re-assignment of new/different type of values to a Variable is possible."
   ]
  },
  {
   "cell_type": "code",
   "execution_count": null,
   "metadata": {},
   "outputs": [],
   "source": [
    "x = 3\n",
    "y = x\n",
    "y"
   ]
  },
  {
   "cell_type": "code",
   "execution_count": null,
   "metadata": {},
   "outputs": [],
   "source": [
    "### Python supports the following Variable Types:\n",
    "## 1. int – Integer numbers.\n",
    "## 2. float – Decimal numbers.\n",
    "## 3. bool – Booleans are assigned value using literals True and False.\n",
    "## 4. str – String/Textual data.\n",
    "\n",
    "# Python provides a method type(), which prints the data type of each variable."
   ]
  },
  {
   "cell_type": "code",
   "execution_count": null,
   "metadata": {},
   "outputs": [],
   "source": [
    "Var1 = 2\n",
    "Var1"
   ]
  },
  {
   "cell_type": "code",
   "execution_count": null,
   "metadata": {},
   "outputs": [],
   "source": [
    "type(Var1)"
   ]
  },
  {
   "cell_type": "code",
   "execution_count": null,
   "metadata": {},
   "outputs": [],
   "source": [
    "Var2 = 4.5\n",
    "Var2"
   ]
  },
  {
   "cell_type": "code",
   "execution_count": null,
   "metadata": {},
   "outputs": [],
   "source": [
    "type(Var2)"
   ]
  },
  {
   "cell_type": "code",
   "execution_count": null,
   "metadata": {},
   "outputs": [],
   "source": [
    "Var3 = True\n",
    "Var3"
   ]
  },
  {
   "cell_type": "code",
   "execution_count": null,
   "metadata": {},
   "outputs": [],
   "source": [
    "type(Var3)"
   ]
  },
  {
   "cell_type": "code",
   "execution_count": null,
   "metadata": {},
   "outputs": [],
   "source": [
    "Var4 = \"Machine Learning\"\n",
    "Var4"
   ]
  },
  {
   "cell_type": "code",
   "execution_count": null,
   "metadata": {},
   "outputs": [],
   "source": [
    "type(Var4)"
   ]
  },
  {
   "cell_type": "code",
   "execution_count": null,
   "metadata": {},
   "outputs": [],
   "source": [
    "### Printing values of a Variable.\n",
    "# Print values of all the variables using print() method. \n",
    "# The signature of print method is print(*objects, sep=‘ ’ end=‘\\n’) where:\n",
    "## 1. objects – Object to the printed. It can take variable number of objects, \n",
    "# that is, one or more objects to be printed.\n",
    "## 2. sep – objects are separated by sep. Default value: ‘ ’ (space).\n",
    "## 3. end – end is printed at last. By default it is new line character."
   ]
  },
  {
   "cell_type": "code",
   "execution_count": null,
   "metadata": {},
   "outputs": [],
   "source": [
    "print(\"Value of Var1:\",Var1)\n",
    "print(\"Value of Var2:\",Var2)\n",
    "print(\"Value of Var3:\",Var3)\n",
    "print(\"Value of Var4:\",Var4)"
   ]
  },
  {
   "cell_type": "markdown",
   "metadata": {},
   "source": [
    "# 2. Input in Python"
   ]
  },
  {
   "cell_type": "markdown",
   "metadata": {},
   "source": [
    "# 2.1 Input using input() Function"
   ]
  },
  {
   "cell_type": "code",
   "execution_count": null,
   "metadata": {},
   "outputs": [],
   "source": [
    "# Program to show the use of only input() function\n",
    "num = input(\"Enter the number: \")\n",
    "print(\"The number is: \",num,\"and class is: \",type(num))"
   ]
  },
  {
   "cell_type": "code",
   "execution_count": null,
   "metadata": {},
   "outputs": [],
   "source": [
    "# Program to enter string using input() function\n",
    "username=input(\"Enter your name: \")\n",
    "print(\"Hello and Welcome\", username)"
   ]
  },
  {
   "cell_type": "markdown",
   "metadata": {},
   "source": [
    "# 2.2 Input using int() Function"
   ]
  },
  {
   "cell_type": "code",
   "execution_count": null,
   "metadata": {},
   "outputs": [],
   "source": [
    "# Input with int() Function\n",
    "# Program to show the use of int() function for entering integer input\n",
    "salary= int(input(\"Enter the salary: \"))\n",
    "print(\"The salary is:\",salary)"
   ]
  },
  {
   "cell_type": "markdown",
   "metadata": {},
   "source": [
    "# 2.3 Input using float() Function"
   ]
  },
  {
   "cell_type": "code",
   "execution_count": null,
   "metadata": {},
   "outputs": [],
   "source": [
    "# Input with float() Function\n",
    "# Program to use float() to accept float value from the user.\n",
    "side=float(input(\"Enter the side \"))\n",
    "area=side*side\n",
    "print(\"The area of square using variable is: \",area)\n",
    "print(\"The area of square computed directly is: \",side*side)"
   ]
  },
  {
   "cell_type": "markdown",
   "metadata": {},
   "source": [
    "# 2.4 Input using eval() Function"
   ]
  },
  {
   "cell_type": "code",
   "execution_count": null,
   "metadata": {},
   "outputs": [],
   "source": [
    "# Input with eval() Function\n",
    "# Program to take input from the user using eval() function\n",
    "val1 = eval(input('Enter the value of first variable: '))\n",
    "print('val1 = ', val1, 'type: ', type(val1))\n",
    "\n",
    "val2 = eval(input('Enter the value of second variable: '))\n",
    "print('val2 = ', val2, 'type: ', type(val2))\n",
    "\n",
    "val3 = eval(input('Enter the value of third variable: '))\n",
    "print('val3 = ', val3, 'type: ', type(val3))"
   ]
  },
  {
   "cell_type": "code",
   "execution_count": null,
   "metadata": {},
   "outputs": [],
   "source": [
    "# Program to show use of accepting multiple inputs using eval() function\n",
    "a,b,c = eval(input('Enter three numbers: '))\n",
    "print(a, '+', b, '+', c, '=', a+b+c)"
   ]
  },
  {
   "cell_type": "markdown",
   "metadata": {},
   "source": [
    "# 3. Dealing with Strings"
   ]
  },
  {
   "cell_type": "code",
   "execution_count": null,
   "metadata": {},
   "outputs": [],
   "source": [
    "# A String in Python can be initialized with Single or Double Quotes."
   ]
  },
  {
   "cell_type": "code",
   "execution_count": null,
   "metadata": {},
   "outputs": [],
   "source": [
    "String0 = 'Python'\n",
    "String1 = 'Machine Learning'\n",
    "String0"
   ]
  },
  {
   "cell_type": "code",
   "execution_count": null,
   "metadata": {},
   "outputs": [],
   "source": [
    "# Converting to Upper Case\n",
    "String1.upper()"
   ]
  },
  {
   "cell_type": "code",
   "execution_count": null,
   "metadata": {},
   "outputs": [],
   "source": [
    "# Converting to Lower Case\n",
    "String0.lower()"
   ]
  },
  {
   "cell_type": "code",
   "execution_count": null,
   "metadata": {},
   "outputs": [],
   "source": [
    "# For splitting string into a list of words separated by space using 'split':\n",
    "Tokens = String1.split(' ')\n",
    "Tokens"
   ]
  },
  {
   "cell_type": "markdown",
   "metadata": {},
   "source": [
    "# 4. Operators"
   ]
  },
  {
   "cell_type": "markdown",
   "metadata": {},
   "source": [
    "# 4.1 Arithmetic Operators"
   ]
  },
  {
   "cell_type": "code",
   "execution_count": null,
   "metadata": {},
   "outputs": [],
   "source": [
    "# Program to show the usage of Arithmetic Operators\n",
    "num1 = int(input('Enter first number: '))\n",
    "num2 = int(input('Enter second number: '))\n",
    "\n",
    "# Using (+) to add two integers provided by the user\n",
    "print(num1, '+', num2, '=', num1+num2)\n",
    "\n",
    "# Using (-) to subtract two integers provided by the user\n",
    "print(num1, '-', num2, '=', num1-num2)\n",
    "\n",
    "# Using (*) to multiply two integers provided by the user\n",
    "print(num1, '*', num2, '=', num1*num2)\n",
    "\n",
    "# Using (/) to divide two integers provided by the user\n",
    "print(num1, '/', num2, '=', num1/num2)\n",
    "\n",
    "# Using (**) to determine exponential power from two integers\n",
    "print(num1, '**', num2, '=', num1**num2)\n",
    "\n",
    "# Using (//) to perform integer division on two integers\n",
    "print(num1, '//', num2, '=', num1//num2)\n",
    "\n",
    "# Using (%) to determine the remainder from two integers\n",
    "print(num1, '%', num2, '=', num1%num2)"
   ]
  },
  {
   "cell_type": "markdown",
   "metadata": {},
   "source": [
    "# 4.2 Relational Operators"
   ]
  },
  {
   "cell_type": "code",
   "execution_count": null,
   "metadata": {},
   "outputs": [],
   "source": [
    "# Program to use Relational Operators\n",
    "num1=60\n",
    "num2=30\n",
    "\n",
    "# The Equals (==) operator checks if the value of two operands are equal\n",
    "print(\"The result of equals to operator is: \",num1==num2)\n",
    "\n",
    "# The Not Equals (!=) operator checks if the value of two operands are not equal.\n",
    "print(\"The result of not equals to operator is: \",num1!=num2)\n",
    "\n",
    "# The Greater than (>) operator checks if value of left operand is greater than\n",
    "# the right operand.\n",
    "print(\"The result of greater than operator is: \",num1>num2)\n",
    "\n",
    "# The (>=) operator checks if value of left operand is greater than or equal to\n",
    "# the right operand.\n",
    "print(\"The result of greater than or equals to operator is: \",num1>=num2)\n",
    "\n",
    "# The less than (<) operator checks if value of left operand is less than\n",
    "# the right operand.\n",
    "print(\"The result of less than operator is: \",num1<num2)\n",
    "\n",
    "# The (<=) operator checks if value of left operand is less than or equal to\n",
    "# the right operand.\n",
    "print(\"The result of less than or equals to operator is: \",num1<=num2)"
   ]
  },
  {
   "cell_type": "markdown",
   "metadata": {},
   "source": [
    "# 4.3 Logical Operators"
   ]
  },
  {
   "cell_type": "code",
   "execution_count": null,
   "metadata": {},
   "outputs": [],
   "source": [
    "# Program to show the use of Logical Operators\n",
    "num1 = 250\n",
    "num2 = 350\n",
    "num3 = 275\n",
    "\n",
    "# Use of \"and\" Logical Operator\n",
    "print(\"The use of and operator: \",num1>num3 and num2>num3)\n",
    "\n",
    "# Use of \"or\" Logical Operator\n",
    "print(\"The use of or operator: \",num1>num3 or num2>num3)\n",
    "\n",
    "# Use of \"not\" Logical Operator\n",
    "print(\"The use of not operator: \", not num1<num3)"
   ]
  },
  {
   "cell_type": "markdown",
   "metadata": {},
   "source": [
    "# 4.4 Operator Precedence"
   ]
  },
  {
   "cell_type": "code",
   "execution_count": null,
   "metadata": {},
   "outputs": [],
   "source": [
    "# Program to show the utility of Operator Precedence\n",
    "a=20\n",
    "b=10\n",
    "c=5\n",
    "\n",
    "print(\"Paranthesis has highest precedence: \", (a+c)*(a+b))\n",
    "print(\"Multiplication has higher precedence than addition: \", a+c*b)\n",
    "print(\"Relational has higher precedence than logical operators: \",a>b and b<c)"
   ]
  },
  {
   "cell_type": "markdown",
   "metadata": {},
   "source": [
    "# 5. Modules and Packages"
   ]
  },
  {
   "cell_type": "code",
   "execution_count": null,
   "metadata": {},
   "outputs": [],
   "source": [
    "## A Module is a file that consists of functions, classes, & variables. \n",
    "## A set of modules under a namespace (mostly a directory) is called a package. \n",
    "\n",
    "## Modules & Packages can be imported to another module using import statement.\n",
    "\n",
    "## Using from…import syntax, a specific module or object (e.g., class or \n",
    "# function) can be imported from a package."
   ]
  },
  {
   "cell_type": "code",
   "execution_count": null,
   "metadata": {},
   "outputs": [],
   "source": [
    "# Ex: To use Mathematical functions, Python’s math module can be imported.\n",
    "import math\n",
    "# Taking Square Root of a Value.\n",
    "math.sqrt(16)"
   ]
  },
  {
   "cell_type": "code",
   "execution_count": null,
   "metadata": {},
   "outputs": [],
   "source": [
    "## To import only sample() function from random module, use this:\n",
    "from random import sample\n",
    "sample(range(0,11),3)"
   ]
  },
  {
   "cell_type": "code",
   "execution_count": null,
   "metadata": {},
   "outputs": [],
   "source": [
    "## random.sample() takes the range function and number of random numbers \n",
    "# to be generated as parameters.\n",
    "import random\n",
    "RandomList = random.sample(range(0,100),20)\n",
    "RandomList"
   ]
  },
  {
   "cell_type": "code",
   "execution_count": null,
   "metadata": {},
   "outputs": [],
   "source": [
    "from statistics import mean, median\n",
    "mean(RandomList)"
   ]
  },
  {
   "cell_type": "code",
   "execution_count": null,
   "metadata": {},
   "outputs": [],
   "source": [
    "median(RandomList)"
   ]
  }
 ],
 "metadata": {
  "kernelspec": {
   "display_name": "Python 3",
   "language": "python",
   "name": "python3"
  },
  "language_info": {
   "codemirror_mode": {
    "name": "ipython",
    "version": 3
   },
   "file_extension": ".py",
   "mimetype": "text/x-python",
   "name": "python",
   "nbconvert_exporter": "python",
   "pygments_lexer": "ipython3",
   "version": "3.8.8"
  }
 },
 "nbformat": 4,
 "nbformat_minor": 4
}
