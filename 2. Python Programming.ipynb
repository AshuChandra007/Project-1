{
 "cells": [
  {
   "cell_type": "markdown",
   "metadata": {},
   "source": [
    "# 1. DECISION MAKING STRUCTURES"
   ]
  },
  {
   "cell_type": "code",
   "execution_count": 1,
   "metadata": {},
   "outputs": [],
   "source": [
    "# Python supports if-elif-else for writing conditional statements.\n",
    "# The condition should be terminated by : (colon) and \n",
    "# the code block following that must be indented.\n",
    "# Indentation in Python is not optional. It is a syntax of Python. \n",
    "# The conditional statement need not be enclosed with a bracket."
   ]
  },
  {
   "cell_type": "markdown",
   "metadata": {},
   "source": [
    "## IF Statement ##"
   ]
  },
  {
   "cell_type": "code",
   "execution_count": 2,
   "metadata": {},
   "outputs": [
    {
     "name": "stdout",
     "output_type": "stream",
     "text": [
      "Input the share price of two organizations: 570, 250\n",
      "The first organization is performing better\n"
     ]
    }
   ],
   "source": [
    "# Program to compare share price of two organizations - using if statement.\n",
    "p1, p2 = eval(input(\"Input the share price of two organizations: \"))\n",
    "# Using if Statement\n",
    "if (p1>p2):\n",
    "    print(\"The first organization is performing better\")"
   ]
  },
  {
   "cell_type": "code",
   "execution_count": 3,
   "metadata": {},
   "outputs": [
    {
     "name": "stdout",
     "output_type": "stream",
     "text": [
      "Input the share price of two organizations: 570, 700\n",
      "The second organization is performing better\n"
     ]
    }
   ],
   "source": [
    "# Program to compare share price of two organizations - using if statement.\n",
    "p1, p2 = eval(input(\"Input the share price of two organizations: \"))\n",
    "# Using if Statement\n",
    "if (p1<p2):\n",
    "    print(\"The second organization is performing better\")"
   ]
  },
  {
   "cell_type": "markdown",
   "metadata": {},
   "source": [
    "## If Else Statement ##"
   ]
  },
  {
   "cell_type": "code",
   "execution_count": 4,
   "metadata": {},
   "outputs": [
    {
     "name": "stdout",
     "output_type": "stream",
     "text": [
      "Input the share price of two organizations: 400, 300\n",
      "The first organization is performing better\n"
     ]
    }
   ],
   "source": [
    "# Program to compare share price of two organizations - using if..else statement.\n",
    "p1, p2 = eval(input(\"Input the share price of two organizations: \"))\n",
    "# Using if Statement\n",
    "if (p1>p2):\n",
    "    print(\"The first organization is performing better\")\n",
    "else:\n",
    "    print(\"The second organization is performing better\")"
   ]
  },
  {
   "cell_type": "code",
   "execution_count": 5,
   "metadata": {},
   "outputs": [
    {
     "name": "stdout",
     "output_type": "stream",
     "text": [
      "Provide the Sales Amount: 15000\n",
      "Provide the Expenses Amount: 10000\n",
      "Poor Profit\n",
      "Work Hard\n"
     ]
    }
   ],
   "source": [
    "# Program to print the result depending on Profit.\n",
    "Sales = float(input(\"Provide the Sales Amount: \"))\n",
    "Expenses = float(input(\"Provide the Expenses Amount: \"))\n",
    "Profit = Sales - Expenses\n",
    "if Profit > 9000:\n",
    "    print(\"Good Profit\")\n",
    "    print(\"Congratulations\")\n",
    "else:\n",
    "    print(\"Poor Profit\")\n",
    "    print(\"Work Hard\")"
   ]
  },
  {
   "cell_type": "code",
   "execution_count": 6,
   "metadata": {},
   "outputs": [
    {
     "name": "stdout",
     "output_type": "stream",
     "text": [
      "Provide the Sales Amount: 25000\n",
      "Provide the Expenses Amount: 15000\n",
      "Good Profit\n",
      "Congratulations\n",
      "Work Hard\n"
     ]
    }
   ],
   "source": [
    "# Program to print the result depending on Profit.\n",
    "# Importance of Indentation\n",
    "Sales = float(input(\"Provide the Sales Amount: \"))\n",
    "Expenses = float(input(\"Provide the Expenses Amount: \"))\n",
    "Profit = Sales - Expenses\n",
    "if Profit > 9000:\n",
    "    print(\"Good Profit\")\n",
    "    print(\"Congratulations\")\n",
    "else:\n",
    "    print(\"Poor Profit\")\n",
    "print(\"Work Hard\")"
   ]
  },
  {
   "cell_type": "markdown",
   "metadata": {},
   "source": [
    "## Nested \"if\" Statement ##"
   ]
  },
  {
   "cell_type": "code",
   "execution_count": 7,
   "metadata": {},
   "outputs": [
    {
     "name": "stdout",
     "output_type": "stream",
     "text": [
      "Input the prices of three products: 400, 300, 500\n",
      "Third Product is Expensive\n"
     ]
    }
   ],
   "source": [
    "# Program to compute expensive product among three products.\n",
    "p1,p2,p3 = eval(input(\"Input the prices of three products: \"))\n",
    "if (p1>p2):\n",
    "    if (p1>p3): \n",
    "        print(\"First Product is Expensive\")\n",
    "    else:\n",
    "        print (\"Third Product is Expensive\")         \n",
    "else:\n",
    "    if (p2>p3):\n",
    "        print (\"Second Product is Expensive\")\n",
    "    else:\n",
    "        print (\"Third Product is Expensive\")     "
   ]
  },
  {
   "cell_type": "markdown",
   "metadata": {},
   "source": [
    "## If-elif-else Ladder ##"
   ]
  },
  {
   "cell_type": "code",
   "execution_count": 8,
   "metadata": {},
   "outputs": [
    {
     "name": "stdout",
     "output_type": "stream",
     "text": [
      "Input the Quantity Sold: 600\n",
      "Average Performance\n"
     ]
    }
   ],
   "source": [
    "# Program to print performance depending on quantity sold.\n",
    "Quantity = eval(input(\"Input the Quantity Sold: \"))\n",
    "if (Quantity >= 900):\n",
    "    print(\"Excellent Performance\")\n",
    "elif (Quantity >= 750):\n",
    "    print(\"Above Average Performance\")\n",
    "elif (Quantity >= 500):\n",
    "    print (\"Average Performance\")\n",
    "else:\n",
    "    print (\"Poor Performance\")"
   ]
  },
  {
   "cell_type": "markdown",
   "metadata": {},
   "source": [
    "# Program using Logical Operators"
   ]
  },
  {
   "cell_type": "code",
   "execution_count": 9,
   "metadata": {},
   "outputs": [
    {
     "name": "stdout",
     "output_type": "stream",
     "text": [
      "Input the Salary: 270000\n",
      "Senior Manager\n"
     ]
    }
   ],
   "source": [
    "# Program using Logical Operators: or, and (&)\n",
    "Salary = eval(input(\"Input the Salary: \"))\n",
    "\n",
    "# Using or operator\n",
    "if (Salary <= 0) or (Salary >= 300000):\n",
    "    print(\"Invalid Salary\")\n",
    "\n",
    "# Using and (&) operator    \n",
    "if (Salary > 50000) & (Salary < 100000):\n",
    "    print(\"Middle Level Manager\")\n",
    "    \n",
    "if (Salary > 100000) & (Salary < 300000):\n",
    "    print (\"Senior Manager\")"
   ]
  },
  {
   "cell_type": "markdown",
   "metadata": {},
   "source": [
    "# 2. Loops ##"
   ]
  },
  {
   "cell_type": "code",
   "execution_count": 10,
   "metadata": {},
   "outputs": [
    {
     "name": "stdout",
     "output_type": "stream",
     "text": [
      "Input the number to print the Table: 7\n",
      "7 x 1 = 7\n",
      "7 x 2 = 14\n",
      "7 x 3 = 21\n",
      "7 x 4 = 28\n",
      "7 x 5 = 35\n",
      "7 x 6 = 42\n",
      "7 x 7 = 49\n",
      "7 x 8 = 56\n",
      "7 x 9 = 63\n",
      "7 x 10 = 70\n",
      "Finished Task\n"
     ]
    }
   ],
   "source": [
    "# Program for printing the table of a number.\n",
    "num = int(input(\"Input the number to print the Table: \"))\n",
    "for k in range(1,11):\n",
    "    print (num,\"x\",k,\"=\",num*k)\n",
    "    \n",
    "# Outside the for Loop\n",
    "print(\"Finished Task\")"
   ]
  },
  {
   "cell_type": "code",
   "execution_count": 11,
   "metadata": {},
   "outputs": [
    {
     "name": "stdout",
     "output_type": "stream",
     "text": [
      "Input the number to print the table: 4\n",
      "4 x 1 = 4\n",
      "4 x 3 = 12\n",
      "4 x 5 = 20\n",
      "4 x 7 = 28\n",
      "4 x 9 = 36\n",
      "Finished Task\n"
     ]
    }
   ],
   "source": [
    "# Program for printing the table of a number using step argument.\n",
    "num=int(input(\"Input the number to print the table: \"))\n",
    "for k in range(1,11,2):\n",
    "    print(num,\"x\",k,\"=\",num*k)\n",
    "\n",
    "# Outside the for Loop\n",
    "print(\"Finished Task\")"
   ]
  },
  {
   "cell_type": "code",
   "execution_count": 12,
   "metadata": {},
   "outputs": [
    {
     "name": "stdout",
     "output_type": "stream",
     "text": [
      "Input the number of Items: 2\n",
      "Input the Price: 200\n",
      "Input the Quantity: 4\n",
      "Input the Price: 100\n",
      "Input the Quantity: 6\n",
      "Total is:  1400\n",
      "Discount of 5% =  70.0\n",
      "Net Amount is:  1330.0\n",
      "FInsihed Task\n"
     ]
    }
   ],
   "source": [
    "# Program to show use of \"For\" and \"If\" in the same program.\n",
    "num=int(input(\"Input the number of Items: \"))\n",
    "Amount=0\n",
    "Discount=0\n",
    "\n",
    "# Using for Loop\n",
    "for k in range(1,num+1):\n",
    "    Price=eval(input(\"Input the Price: \"))\n",
    "    Quantity=eval(input(\"Input the Quantity: \"))\n",
    "    Amount=Amount+(Price*Quantity)\n",
    "print(\"Total is: \", Amount)\n",
    "\n",
    "# Using \"if\" conditional statement\n",
    "if Amount>5000:\n",
    "    Disount=Amount*0.1\n",
    "    print(\"Discount of 10% = \",Discount)\n",
    "elif Amount>3000:\n",
    "    Discount=Amount*0.07\n",
    "    print(\"Discount of 7% = \",Discount)\n",
    "elif Amount>1000:\n",
    "    Discount=Amount*0.05\n",
    "    print(\"Discount of 5% = \",Discount)\n",
    "else:\n",
    "    print(\"No Discount Received\")\n",
    "    \n",
    "# In Main Program\n",
    "print(\"Net Amount is: \",Amount-Discount)\n",
    "print(\"FInsihed Task\")"
   ]
  },
  {
   "cell_type": "code",
   "execution_count": 13,
   "metadata": {},
   "outputs": [
    {
     "name": "stdout",
     "output_type": "stream",
     "text": [
      "1\n",
      "2\n",
      "3\n",
      "4\n",
      "5\n",
      "Done\n"
     ]
    }
   ],
   "source": [
    "## A 'while' loop is used to keep executing a loop until a condition is false.\n",
    "# Initialize the Value of 1\n",
    "i = 1\n",
    "\n",
    "# Check the value of i to check if the loop will be continued or not.\n",
    "while i < 6:\n",
    "    print(i)\n",
    "\n",
    "    # Increment the Value of i.\n",
    "    i = i+1\n",
    "\n",
    "# Print after the Value of i\n",
    "print('Done')"
   ]
  },
  {
   "cell_type": "code",
   "execution_count": 14,
   "metadata": {},
   "outputs": [
    {
     "name": "stdout",
     "output_type": "stream",
     "text": [
      "Input the Price: 300\n",
      "Input the Quantity: 2\n",
      "Wish to Continue - yes/no: yes\n",
      "Input the Price: 200\n",
      "Input the Quantity: 1\n",
      "Wish to Continue - yes/no: no\n",
      "Your bill amount is: 800\n",
      "Finished Task\n"
     ]
    }
   ],
   "source": [
    "# Program to show use of while loop for computing bill amount.\n",
    "Amount=0\n",
    "choice=\"yes\"\n",
    "\n",
    "# Using while loop\n",
    "while (choice==\"yes\"):\n",
    "    Price=eval(input(\"Input the Price: \"))\n",
    "    Quantity=eval(input(\"Input the Quantity: \"))\n",
    "    Amount=(Price*Quantity)+Amount\n",
    "    choice=input(\"Wish to Continue - yes/no: \")\n",
    "\n",
    "# Outside the loop\n",
    "print(\"Your bill amount is:\", Amount)\n",
    "print(\"Finished Task\")"
   ]
  },
  {
   "cell_type": "markdown",
   "metadata": {},
   "source": [
    "# 3. Generating Sequence Numbers"
   ]
  },
  {
   "cell_type": "code",
   "execution_count": 15,
   "metadata": {},
   "outputs": [],
   "source": [
    "### range() function generates a sequence of numbers. \n",
    "## It takes the following three parameters:\n",
    "# 1. start: Starting number of the sequence.\n",
    "# 2. stop: Generate numbers up to, but not including, this number.\n",
    "# 3. step: Difference between each number in sequence. \n",
    "# It is optional and default value is 1."
   ]
  },
  {
   "cell_type": "code",
   "execution_count": 16,
   "metadata": {},
   "outputs": [
    {
     "name": "stdout",
     "output_type": "stream",
     "text": [
      "range(1, 6)\n"
     ]
    }
   ],
   "source": [
    "# Initializing the Sequence of Numbers from 1 and ending (before) 6\n",
    "A = range(1,6)\n",
    "print(A)"
   ]
  },
  {
   "cell_type": "code",
   "execution_count": 17,
   "metadata": {},
   "outputs": [
    {
     "name": "stdout",
     "output_type": "stream",
     "text": [
      "1\n",
      "2\n",
      "3\n",
      "4\n",
      "5\n"
     ]
    }
   ],
   "source": [
    "### Iterate through the Collection\n",
    "## A 'for' loop is used to print sequence of numbers by iterating through it:\n",
    "# It completes after the iterator reaches the end.\n",
    "for i in A:\n",
    "    print (i)"
   ]
  },
  {
   "cell_type": "markdown",
   "metadata": {},
   "source": [
    "# 4. Functions"
   ]
  },
  {
   "cell_type": "code",
   "execution_count": 18,
   "metadata": {},
   "outputs": [],
   "source": [
    "### Functions are the most important part of a language.\n",
    "## 1. Functions can be created using def keyword.\n",
    "## 2. The function code should contain the function name followed by the input \n",
    "# parameters enclosed in brackets and must end with a colon (:).\n",
    "## 3. Parameters are optional if initialized in the definition. \n",
    "# The code block inside the method should be indented.\n",
    "## 4. The function ends with a return statement. \n",
    "# No return statement implies the function returns None.\n",
    "## Data type of Parameters and Return types are automatically determined based\n",
    "# on the values passed to the function."
   ]
  },
  {
   "cell_type": "code",
   "execution_count": 19,
   "metadata": {},
   "outputs": [],
   "source": [
    "## Creating a Function which takes two parameters & returns their addition “+”.\n",
    "def addElements (a, b):\n",
    "    return a + b"
   ]
  },
  {
   "cell_type": "code",
   "execution_count": 20,
   "metadata": {},
   "outputs": [
    {
     "data": {
      "text/plain": [
       "12"
      ]
     },
     "execution_count": 20,
     "metadata": {},
     "output_type": "execute_result"
    }
   ],
   "source": [
    "## Invoking the Function with two Integer values.\n",
    "Result = addElements(4, 8)\n",
    "Result"
   ]
  },
  {
   "cell_type": "code",
   "execution_count": 21,
   "metadata": {},
   "outputs": [
    {
     "data": {
      "text/plain": [
       "8.7"
      ]
     },
     "execution_count": 21,
     "metadata": {},
     "output_type": "execute_result"
    }
   ],
   "source": [
    "## Invoking the Function with two Float values.\n",
    "Result2 = addElements(5.2, 3.5)\n",
    "Result2"
   ]
  },
  {
   "cell_type": "code",
   "execution_count": 22,
   "metadata": {},
   "outputs": [
    {
     "data": {
      "text/plain": [
       "'PredictiveAnalytics'"
      ]
     },
     "execution_count": 22,
     "metadata": {},
     "output_type": "execute_result"
    }
   ],
   "source": [
    "## Invoking the Function with two Strings.\n",
    "# If two strings are passed, they are concatenated using the '+' Operator.\n",
    "Result3 = addElements(\"Predictive\",\"Analytics\")\n",
    "Result3"
   ]
  },
  {
   "cell_type": "code",
   "execution_count": 23,
   "metadata": {},
   "outputs": [
    {
     "data": {
      "text/plain": [
       "'Predictive Analytics'"
      ]
     },
     "execution_count": 23,
     "metadata": {},
     "output_type": "execute_result"
    }
   ],
   "source": [
    "Result3 = addElements(\"Predictive \",\"Analytics\")\n",
    "Result3"
   ]
  },
  {
   "cell_type": "code",
   "execution_count": 24,
   "metadata": {},
   "outputs": [],
   "source": [
    "## Default value for the parameters in a Function can be defined in advance. \n",
    "# This makes that parameter optional.\n",
    "# Defining the method addElements() with parameter b initialized to 4.\n",
    "\n",
    "def addElements(a, b = 4):\n",
    "    return a + b"
   ]
  },
  {
   "cell_type": "code",
   "execution_count": 25,
   "metadata": {},
   "outputs": [
    {
     "data": {
      "text/plain": [
       "6"
      ]
     },
     "execution_count": 25,
     "metadata": {},
     "output_type": "execute_result"
    }
   ],
   "source": [
    "## Invoking the function with only one parameter, that is, a.\n",
    "addElements(2)\n",
    "# So, this assigns 2 to variable a and adds that to b, whose default value is 4."
   ]
  },
  {
   "cell_type": "code",
   "execution_count": 26,
   "metadata": {},
   "outputs": [
    {
     "data": {
      "text/plain": [
       "7"
      ]
     },
     "execution_count": 26,
     "metadata": {},
     "output_type": "execute_result"
    }
   ],
   "source": [
    "## Invoking the Function with both the parameters.\n",
    "addElements(2,5)\n",
    "# Default value of b is overridden with the value passed."
   ]
  },
  {
   "cell_type": "code",
   "execution_count": 27,
   "metadata": {},
   "outputs": [
    {
     "name": "stdout",
     "output_type": "stream",
     "text": [
      "7\n",
      "14\n",
      "21\n",
      "28\n",
      "35\n"
     ]
    }
   ],
   "source": [
    "# Creating a function without an argument and using a \"for\" loop.\n",
    "def Function2():\n",
    "    for num in range (1,6):\n",
    "        print(num * 7)\n",
    "        \n",
    "# Calling the function\n",
    "Function2()"
   ]
  },
  {
   "cell_type": "code",
   "execution_count": 28,
   "metadata": {},
   "outputs": [
    {
     "name": "stdout",
     "output_type": "stream",
     "text": [
      "Input the two numbers: 40, 5\n",
      "The number is a multiple: True\n"
     ]
    }
   ],
   "source": [
    "# Program to create a function that returns a Boolean value.\n",
    "def multiple():\n",
    "    num1,num2=eval(input(\"Input the two numbers: \"))\n",
    "    if num1%num2==0:\n",
    "        return True\n",
    "    else:\n",
    "        return False\n",
    "    \n",
    "# Main program calling the function.\n",
    "print(\"The number is a multiple:\",multiple())"
   ]
  },
  {
   "cell_type": "code",
   "execution_count": 29,
   "metadata": {},
   "outputs": [
    {
     "name": "stdout",
     "output_type": "stream",
     "text": [
      "Choice: 1-Square,2-Circle,3-Rectangle,4-Triangle: 3\n",
      "Input the Length and Breadth of Rectangle: 16, 5\n",
      "The Area of the Rectangle is:  80\n"
     ]
    }
   ],
   "source": [
    "# Program for creating multiple functions in a single program.\n",
    "# Creating area_square function for calculating area of a square.\n",
    "def area_square():\n",
    "    Side=eval(input(\"Input the Length of Square: \"))\n",
    "    print(\"The Area of the Square is: \",Side*Side)\n",
    "    \n",
    "# Creating area_cricle function for calculating area of a circle.\n",
    "def area_circle():\n",
    "    Rad=eval(input(\"Input the Radius of a Circle: \"))\n",
    "    print(\"The Area of the Circle is: \",3.14*Rad*Rad)\n",
    "    \n",
    "# Creating area_rectangle function for calculating area of a rectangle.\n",
    "def area_rectangle():\n",
    "    Length,Breadth=eval(input(\"Input the Length and Breadth of Rectangle: \"))\n",
    "    print(\"The Area of the Rectangle is: \",Length*Breadth)\n",
    "    \n",
    "# Creating area_triangle function for calculating area of a triangle.\n",
    "def area_triangle():\n",
    "    a,b,c=eval(input(\"Input the three sides of Triangle: \"))\n",
    "    s=(a+b+c)/2\n",
    "    print(\"The Area of the Triangle is: \",((s-a)+(s-b)+(s-c))**0.5)\n",
    "\n",
    "# Calling the function according to user choice\n",
    "choice=int(input(\"Choice: 1-Square,2-Circle,3-Rectangle,4-Triangle: \"))\n",
    "if choice==1:\n",
    "    area_square()\n",
    "elif choice==2:\n",
    "    area_circle()\n",
    "elif choice==3:\n",
    "    area_rectangle()\n",
    "elif choice==4:\n",
    "    area_triangle()\n",
    "else:\n",
    "    print(\"Not a Valid Choice\")"
   ]
  },
  {
   "cell_type": "markdown",
   "metadata": {},
   "source": [
    "# 5. Functional Programming"
   ]
  },
  {
   "cell_type": "code",
   "execution_count": 30,
   "metadata": {},
   "outputs": [],
   "source": [
    "## Functional programming supports functions being passed as parameters to another \n",
    "# function like variables. This allows to create higher order functions. \n",
    "## One core benefit of functional programming in data analysis is applying \n",
    "# transformations or filters to a set of records or columns more efficiently \n",
    "# than using plain looping."
   ]
  },
  {
   "cell_type": "markdown",
   "metadata": {},
   "source": [
    "## 5.1 Map"
   ]
  },
  {
   "cell_type": "code",
   "execution_count": 31,
   "metadata": {},
   "outputs": [],
   "source": [
    "## map() iterates through the list and transforms each element using function.\n"
   ]
  },
  {
   "cell_type": "code",
   "execution_count": 32,
   "metadata": {},
   "outputs": [
    {
     "name": "stdout",
     "output_type": "stream",
     "text": [
      "[1, 4, 9, 16, 25, 36, 49, 64, 81]\n"
     ]
    }
   ],
   "source": [
    "### Programming using a typical 'for' loop.\n",
    "\n",
    "## We want to create another list named SquareList, which contains the squared \n",
    "# values of all Elements in IntList.\n",
    "\n",
    "# We have a List of Integers\n",
    "IntList = [1,2,3,4,5,6,7,8,9]\n",
    "\n",
    "# Create an Empty List.\n",
    "SquareList = []\n",
    "\n",
    "# Loop through the IntList, Square every item and Append to create SquareList.\n",
    "for x in IntList:\n",
    "    SquareList.append(pow(x,2))\n",
    "\n",
    "print(SquareList)"
   ]
  },
  {
   "cell_type": "code",
   "execution_count": 33,
   "metadata": {},
   "outputs": [
    {
     "data": {
      "text/plain": [
       "[1, 4, 9, 16, 25, 36, 49, 64, 81]"
      ]
     },
     "execution_count": 33,
     "metadata": {},
     "output_type": "execute_result"
    }
   ],
   "source": [
    "### Programming using Map function.\n",
    "\n",
    "## Step 1: Define a function square_me() that takes an integer and \n",
    "# returns the square value of it.\n",
    "def Square_me(x):\n",
    "    return x*x\n",
    "\n",
    "## Step 2: The function square_me and the list of integers can be passed to a \n",
    "# higher order function map().\n",
    "SquareList = map(Square_me,IntList)\n",
    "\n",
    "## Step 3: We can print the result as a list.\n",
    "list(SquareList)"
   ]
  },
  {
   "cell_type": "code",
   "execution_count": 34,
   "metadata": {},
   "outputs": [
    {
     "data": {
      "text/plain": [
       "[1, 4, 9, 16, 25, 36, 49, 64, 81]"
      ]
     },
     "execution_count": 34,
     "metadata": {},
     "output_type": "execute_result"
    }
   ],
   "source": [
    "### Programming using Anonymous Function.\n",
    "## The square function square_me() is just one line of code and can actually be\n",
    "# written as an anonymous function. Anonymous function is a function without \n",
    "# a name and is defined using lambda keyword.\n",
    "SquareList = map(lambda x: x*x, IntList)\n",
    "list(SquareList)"
   ]
  },
  {
   "cell_type": "markdown",
   "metadata": {},
   "source": [
    "## 5.2 Filter"
   ]
  },
  {
   "cell_type": "code",
   "execution_count": 35,
   "metadata": {},
   "outputs": [],
   "source": [
    "## Filters can also be applied using Functional Programming.\n",
    "## filter() takes a function as an argument, which should act like a filter and \n",
    "# return True or False. If returns False, the element will be filtered out."
   ]
  },
  {
   "cell_type": "code",
   "execution_count": 36,
   "metadata": {},
   "outputs": [],
   "source": [
    "## In case we want to select only the even numbers from the numbers in intList. \n",
    "# It will filter only those numbers which are divisible by 2 and \n",
    "# can be achieved using higher order function filter().\n",
    "## To verify if an integer is even, we can use filter x % 2 == 0."
   ]
  },
  {
   "cell_type": "code",
   "execution_count": 37,
   "metadata": {},
   "outputs": [
    {
     "data": {
      "text/plain": [
       "[2, 4, 6, 8]"
      ]
     },
     "execution_count": 37,
     "metadata": {},
     "output_type": "execute_result"
    }
   ],
   "source": [
    "EvenIntegers = filter(lambda x : x % 2 == 0, IntList)\n",
    "list(EvenIntegers)"
   ]
  }
 ],
 "metadata": {
  "kernelspec": {
   "display_name": "Python 3",
   "language": "python",
   "name": "python3"
  },
  "language_info": {
   "codemirror_mode": {
    "name": "ipython",
    "version": 3
   },
   "file_extension": ".py",
   "mimetype": "text/x-python",
   "name": "python",
   "nbconvert_exporter": "python",
   "pygments_lexer": "ipython3",
   "version": "3.8.8"
  }
 },
 "nbformat": 4,
 "nbformat_minor": 4
}
