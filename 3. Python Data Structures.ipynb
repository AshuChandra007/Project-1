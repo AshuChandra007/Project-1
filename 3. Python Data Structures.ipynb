{
 "cells": [
  {
   "cell_type": "markdown",
   "metadata": {},
   "source": [
    "## 3.1 Lists"
   ]
  },
  {
   "cell_type": "code",
   "execution_count": 1,
   "metadata": {},
   "outputs": [],
   "source": [
    "### Lists are like arrays, but can contain heterogeneous items. \n",
    "## A single list can contain items of type integer, float, string, or objects. \n",
    "### It is also not a unique set of items, that is, the values can repeat. \n",
    "### Lists are generally initialized with values specified inside square brackets. "
   ]
  },
  {
   "cell_type": "code",
   "execution_count": 2,
   "metadata": {},
   "outputs": [],
   "source": [
    "### Create an Empty List\n",
    "EmptyList= []"
   ]
  },
  {
   "cell_type": "code",
   "execution_count": 3,
   "metadata": {},
   "outputs": [],
   "source": [
    "### Creating a Non-Empty List\n",
    "## List of Batsmen in the Indian Cricket Team in the order of batting.\n",
    "Batsmen = ['Shikhar', 'Rohit','Virat','Shreyas','Rahul','Hardik']"
   ]
  },
  {
   "cell_type": "code",
   "execution_count": 4,
   "metadata": {},
   "outputs": [
    {
     "data": {
      "text/plain": [
       "'Shikhar'"
      ]
     },
     "execution_count": 4,
     "metadata": {},
     "output_type": "execute_result"
    }
   ],
   "source": [
    "### Indexing in a List\n",
    "## The List Index starts with 0. An item in the list can be accessed using [].\n",
    "Batsmen[0]"
   ]
  },
  {
   "cell_type": "code",
   "execution_count": 5,
   "metadata": {},
   "outputs": [
    {
     "data": {
      "text/plain": [
       "['Shikhar', 'Rohit', 'Virat']"
      ]
     },
     "execution_count": 5,
     "metadata": {},
     "output_type": "execute_result"
    }
   ],
   "source": [
    "### Slicing a List\n",
    "## A slice of List can be obtained using an index range separated by a colon (:).\n",
    "## A range [0:3] means starting with index 0 until 3, but not including 3.\n",
    "Batsmen[0:3]"
   ]
  },
  {
   "cell_type": "code",
   "execution_count": 6,
   "metadata": {},
   "outputs": [
    {
     "data": {
      "text/plain": [
       "'Hardik'"
      ]
     },
     "execution_count": 6,
     "metadata": {},
     "output_type": "execute_result"
    }
   ],
   "source": [
    "### Accessing the Last Element in a List.\n",
    "## To find the last element of a List, an index value of –1 can be used.\n",
    "Batsmen[-1]"
   ]
  },
  {
   "cell_type": "code",
   "execution_count": 7,
   "metadata": {},
   "outputs": [
    {
     "data": {
      "text/plain": [
       "6"
      ]
     },
     "execution_count": 7,
     "metadata": {},
     "output_type": "execute_result"
    }
   ],
   "source": [
    "### Number of Elements in the List\n",
    "## To find number of elements in the list, use the function called len().\n",
    "len(Batsmen)"
   ]
  },
  {
   "cell_type": "code",
   "execution_count": 8,
   "metadata": {},
   "outputs": [
    {
     "data": {
      "text/plain": [
       "['Shikhar',\n",
       " 'Rohit',\n",
       " 'Virat',\n",
       " 'Shreyas',\n",
       " 'Rahul',\n",
       " 'Hardik',\n",
       " 'Jadeja',\n",
       " 'Ashwin',\n",
       " 'Bhuvneshwar',\n",
       " 'Shami',\n",
       " 'Jaspreet']"
      ]
     },
     "execution_count": 8,
     "metadata": {},
     "output_type": "execute_result"
    }
   ],
   "source": [
    "### Concatenation of Lists\n",
    "## Two separate lists can be concatenated into one list using + operator.\n",
    "AllRounders = ['Jadeja','Ashwin']\n",
    "Bowlers = ['Bhuvneshwar','Shami','Jaspreet']\n",
    "All_Players = Batsmen + AllRounders + Bowlers\n",
    "All_Players"
   ]
  },
  {
   "cell_type": "code",
   "execution_count": 9,
   "metadata": {},
   "outputs": [],
   "source": [
    "### Finding if an item exists in a list or not, the 'in' operator can be used. \n",
    "## It returns True if exists, else returns False."
   ]
  },
  {
   "cell_type": "code",
   "execution_count": 10,
   "metadata": {},
   "outputs": [
    {
     "data": {
      "text/plain": [
       "False"
      ]
     },
     "execution_count": 10,
     "metadata": {},
     "output_type": "execute_result"
    }
   ],
   "source": [
    "'Jadeja' in Batsmen"
   ]
  },
  {
   "cell_type": "code",
   "execution_count": 11,
   "metadata": {},
   "outputs": [
    {
     "data": {
      "text/plain": [
       "True"
      ]
     },
     "execution_count": 11,
     "metadata": {},
     "output_type": "execute_result"
    }
   ],
   "source": [
    "'Ashwin' in AllRounders"
   ]
  },
  {
   "cell_type": "code",
   "execution_count": 12,
   "metadata": {},
   "outputs": [
    {
     "data": {
      "text/plain": [
       "5"
      ]
     },
     "execution_count": 12,
     "metadata": {},
     "output_type": "execute_result"
    }
   ],
   "source": [
    "### Finding the Index of an Item in the List.\n",
    "All_Players.index('Hardik')"
   ]
  },
  {
   "cell_type": "code",
   "execution_count": 13,
   "metadata": {},
   "outputs": [
    {
     "data": {
      "text/plain": [
       "['Jaspreet',\n",
       " 'Shami',\n",
       " 'Bhuvneshwar',\n",
       " 'Ashwin',\n",
       " 'Jadeja',\n",
       " 'Hardik',\n",
       " 'Rahul',\n",
       " 'Shreyas',\n",
       " 'Virat',\n",
       " 'Rohit',\n",
       " 'Shikhar']"
      ]
     },
     "execution_count": 13,
     "metadata": {},
     "output_type": "execute_result"
    }
   ],
   "source": [
    "### Items in a list can be arranged in reverse order by the reverse() function.\n",
    "All_Players.reverse()\n",
    "All_Players"
   ]
  },
  {
   "cell_type": "code",
   "execution_count": 14,
   "metadata": {},
   "outputs": [
    {
     "data": {
      "text/plain": [
       "['Shikhar',\n",
       " 'Rohit',\n",
       " 'Virat',\n",
       " 'Shreyas',\n",
       " 'Rahul',\n",
       " 'Hardik',\n",
       " 'Jadeja',\n",
       " 'Ashwin',\n",
       " 'Bhuvneshwar',\n",
       " 'Shami',\n",
       " 'Jaspreet']"
      ]
     },
     "execution_count": 14,
     "metadata": {},
     "output_type": "execute_result"
    }
   ],
   "source": [
    "All_Players.reverse()\n",
    "All_Players"
   ]
  },
  {
   "cell_type": "markdown",
   "metadata": {},
   "source": [
    "## 3.2 Tuples"
   ]
  },
  {
   "cell_type": "code",
   "execution_count": 15,
   "metadata": {},
   "outputs": [],
   "source": [
    "## Tuple is also a list, but it is immutable. \n",
    "## Once a tuple has been created, it cannot be modified."
   ]
  },
  {
   "cell_type": "code",
   "execution_count": 16,
   "metadata": {},
   "outputs": [
    {
     "data": {
      "text/plain": [
       "('Virat', '2008')"
      ]
     },
     "execution_count": 16,
     "metadata": {},
     "output_type": "execute_result"
    }
   ],
   "source": [
    "## Create a Tuple with name of a cricketer and the year of his ODI debut.\n",
    "ODI_Debut = ('Virat','2008')\n",
    "ODI_Debut"
   ]
  },
  {
   "cell_type": "code",
   "execution_count": 17,
   "metadata": {},
   "outputs": [
    {
     "data": {
      "text/plain": [
       "'Virat'"
      ]
     },
     "execution_count": 17,
     "metadata": {},
     "output_type": "execute_result"
    }
   ],
   "source": [
    "## Tuple element’s Index also starts with 0.\n",
    "ODI_Debut[0]"
   ]
  },
  {
   "cell_type": "code",
   "execution_count": 18,
   "metadata": {},
   "outputs": [
    {
     "data": {
      "text/plain": [
       "'2008'"
      ]
     },
     "execution_count": 18,
     "metadata": {},
     "output_type": "execute_result"
    }
   ],
   "source": [
    "ODI_Debut[1]"
   ]
  },
  {
   "cell_type": "code",
   "execution_count": 19,
   "metadata": {},
   "outputs": [
    {
     "ename": "TypeError",
     "evalue": "'tuple' object does not support item assignment",
     "output_type": "error",
     "traceback": [
      "\u001b[1;31m---------------------------------------------------------------------------\u001b[0m",
      "\u001b[1;31mTypeError\u001b[0m                                 Traceback (most recent call last)",
      "\u001b[1;32m<ipython-input-19-674b8a77c1ac>\u001b[0m in \u001b[0;36m<module>\u001b[1;34m\u001b[0m\n\u001b[0;32m      2\u001b[0m \u001b[1;31m## Ex: If we try to change the year in the tuple, it will give an error.\u001b[0m\u001b[1;33m\u001b[0m\u001b[1;33m\u001b[0m\u001b[1;33m\u001b[0m\u001b[0m\n\u001b[0;32m      3\u001b[0m \u001b[1;33m\u001b[0m\u001b[0m\n\u001b[1;32m----> 4\u001b[1;33m \u001b[0mODI_Debut\u001b[0m\u001b[1;33m[\u001b[0m\u001b[1;36m1\u001b[0m\u001b[1;33m]\u001b[0m \u001b[1;33m=\u001b[0m \u001b[1;36m2009\u001b[0m\u001b[1;33m\u001b[0m\u001b[1;33m\u001b[0m\u001b[0m\n\u001b[0m",
      "\u001b[1;31mTypeError\u001b[0m: 'tuple' object does not support item assignment"
     ]
    }
   ],
   "source": [
    "## It is not allowed to change the tuple elements. \n",
    "## Ex: If we try to change the year in the tuple, it will give an error.\n",
    "\n",
    "ODI_Debut[1] = 2009"
   ]
  },
  {
   "cell_type": "code",
   "execution_count": 20,
   "metadata": {},
   "outputs": [
    {
     "data": {
      "text/plain": [
       "('Shikhar',\n",
       " 'Rohit',\n",
       " 'Virat',\n",
       " 'Shreyas',\n",
       " 'Rahul',\n",
       " 'Hardik',\n",
       " 'Jadeja',\n",
       " 'Ashwin',\n",
       " 'Bhuvneshwar',\n",
       " 'Shami',\n",
       " 'Jaspreet')"
      ]
     },
     "execution_count": 20,
     "metadata": {},
     "output_type": "execute_result"
    }
   ],
   "source": [
    "### An existing list can be converted into tuple using 'tuple'. \n",
    "## We convert All_Players list into tuple, so it cannot be modified anymore.\n",
    "TeamIndia = tuple(All_Players)\n",
    "TeamIndia"
   ]
  },
  {
   "cell_type": "markdown",
   "metadata": {},
   "source": [
    "## Set"
   ]
  },
  {
   "cell_type": "code",
   "execution_count": null,
   "metadata": {},
   "outputs": [],
   "source": [
    "## A Set is a collection of unique elements, that is, the values cannot repeat. \n",
    "## A Set can be initialized with a list of items enclosed with curly brackets.\n",
    "## Set automatically removes duplicates & contains only unique list of numbers.\n",
    "## The Set supports Operations such as Union, Intersection, and Difference."
   ]
  },
  {
   "cell_type": "code",
   "execution_count": 21,
   "metadata": {},
   "outputs": [
    {
     "data": {
      "text/plain": [
       "{1, 2, 4, 5, 6}"
      ]
     },
     "execution_count": 21,
     "metadata": {},
     "output_type": "execute_result"
    }
   ],
   "source": [
    "SetofNumbers = {6,1,1,2,4,5}\n",
    "SetofNumbers"
   ]
  },
  {
   "cell_type": "code",
   "execution_count": 22,
   "metadata": {},
   "outputs": [],
   "source": [
    "WC2011 ={\"Sehwag\",\"Tendulkar\",\"Gambhir\",\"Virat\",\"Raina\",\"Yuvraj\",\"Dhoni\"}\n",
    "WC2015 ={\"Shikhar\",\"Rohit\",\"Ajinkya\",\"Virat\",\"Raina\",\"Jadeja\",\"Dhoni\"} "
   ]
  },
  {
   "cell_type": "code",
   "execution_count": 23,
   "metadata": {},
   "outputs": [
    {
     "data": {
      "text/plain": [
       "{'Ajinkya',\n",
       " 'Dhoni',\n",
       " 'Gambhir',\n",
       " 'Jadeja',\n",
       " 'Raina',\n",
       " 'Rohit',\n",
       " 'Sehwag',\n",
       " 'Shikhar',\n",
       " 'Tendulkar',\n",
       " 'Virat',\n",
       " 'Yuvraj'}"
      ]
     },
     "execution_count": 23,
     "metadata": {},
     "output_type": "execute_result"
    }
   ],
   "source": [
    "## To find list of all Batsmen who played in either 2011 or 2015 World Cup, \n",
    "# we can take 'union' of the above two sets.\n",
    "WC2011.union(WC2015)"
   ]
  },
  {
   "cell_type": "code",
   "execution_count": 24,
   "metadata": {},
   "outputs": [
    {
     "data": {
      "text/plain": [
       "{'Dhoni', 'Raina', 'Virat'}"
      ]
     },
     "execution_count": 24,
     "metadata": {},
     "output_type": "execute_result"
    }
   ],
   "source": [
    "## To find the list of all Batsmen who played for both 2011 and 2015 World Cup, \n",
    "# we can take 'intersection' of these two sets WC2011 and WC2015.\n",
    "WC2011.intersection(WC2015)"
   ]
  },
  {
   "cell_type": "code",
   "execution_count": 25,
   "metadata": {},
   "outputs": [
    {
     "data": {
      "text/plain": [
       "{'Ajinkya', 'Jadeja', 'Rohit', 'Shikhar'}"
      ]
     },
     "execution_count": 25,
     "metadata": {},
     "output_type": "execute_result"
    }
   ],
   "source": [
    "## If we need to find the new batsmen who were not part of 2011 world cup and \n",
    "# played in 2015 world cup, we take 'difference' of wc2011 from wc2015.\n",
    "WC2015.difference(WC2011)"
   ]
  },
  {
   "cell_type": "markdown",
   "metadata": {},
   "source": [
    "## 3.3 Dictionary"
   ]
  },
  {
   "cell_type": "code",
   "execution_count": null,
   "metadata": {},
   "outputs": [],
   "source": [
    "### 1. Dictionary is a list of Key and Value pairs. \n",
    "## 2. All the Keys in a dictionary are unique.\n",
    "## Example: A Dictionary can contain the ICC ODI World Cup Winners wherein\n",
    "# Key is Year of Tournament and Value is the Name of Winnning Country Team.\n",
    "## 3. The value of a specific Dictionary element can be accessed by Key."
   ]
  },
  {
   "cell_type": "code",
   "execution_count": 26,
   "metadata": {},
   "outputs": [],
   "source": [
    "WC_Winners = { 1975: \"West Indies\",\n",
    "              1979: \"West Indies\",\n",
    "              1983: \"India\",\n",
    "              1987: \"Australia\",\n",
    "              1991: \"Pakistan\",\n",
    "              1996: \"Sri Lanka\",\n",
    "              2003: \"Australia\",\n",
    "              2007: \"Australia\",\n",
    "              2011: \"India\",\n",
    "              2015: \"Australia\"} "
   ]
  },
  {
   "cell_type": "code",
   "execution_count": 27,
   "metadata": {},
   "outputs": [
    {
     "data": {
      "text/plain": [
       "'India'"
      ]
     },
     "execution_count": 27,
     "metadata": {},
     "output_type": "execute_result"
    }
   ],
   "source": [
    "## To find the WC Winning Country in a specific year.\n",
    "WC_Winners[2011]"
   ]
  },
  {
   "cell_type": "code",
   "execution_count": 28,
   "metadata": {},
   "outputs": [
    {
     "data": {
      "text/plain": [
       "dict_values(['West Indies', 'West Indies', 'India', 'Australia', 'Pakistan', 'Sri Lanka', 'Australia', 'Australia', 'India', 'Australia'])"
      ]
     },
     "execution_count": 28,
     "metadata": {},
     "output_type": "execute_result"
    }
   ],
   "source": [
    "## For a list of all Winning Countries this can be used.\n",
    "WC_Winners.values()"
   ]
  },
  {
   "cell_type": "code",
   "execution_count": 29,
   "metadata": {},
   "outputs": [
    {
     "data": {
      "text/plain": [
       "{'Australia', 'India', 'Pakistan', 'Sri Lanka', 'West Indies'}"
      ]
     },
     "execution_count": 29,
     "metadata": {},
     "output_type": "execute_result"
    }
   ],
   "source": [
    "## The above list had repeated names as few have won multiple times. \n",
    "## To find unique list of countries, the above list can be converted to a set.\n",
    "set(WC_Winners.values())"
   ]
  },
  {
   "cell_type": "code",
   "execution_count": 30,
   "metadata": {},
   "outputs": [
    {
     "data": {
      "text/plain": [
       "{1975: 'West Indies',\n",
       " 1979: 'West Indies',\n",
       " 1983: 'India',\n",
       " 1987: 'Australia',\n",
       " 1991: 'Pakistan',\n",
       " 1996: 'Sri Lanka',\n",
       " 2003: 'Australia',\n",
       " 2007: 'Australia',\n",
       " 2011: 'India',\n",
       " 2015: 'Australia',\n",
       " 2019: 'England'}"
      ]
     },
     "execution_count": 30,
     "metadata": {},
     "output_type": "execute_result"
    }
   ],
   "source": [
    "## To Add a new Key-Value pair to the Dictionary.\n",
    "WC_Winners[2019] = \"England\"\n",
    "WC_Winners"
   ]
  }
 ],
 "metadata": {
  "kernelspec": {
   "display_name": "Python 3",
   "language": "python",
   "name": "python3"
  },
  "language_info": {
   "codemirror_mode": {
    "name": "ipython",
    "version": 3
   },
   "file_extension": ".py",
   "mimetype": "text/x-python",
   "name": "python",
   "nbconvert_exporter": "python",
   "pygments_lexer": "ipython3",
   "version": "3.8.8"
  }
 },
 "nbformat": 4,
 "nbformat_minor": 4
}
